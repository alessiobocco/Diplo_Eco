{
 "cells": [
  {
   "cell_type": "markdown",
   "id": "f978f70f-60dc-4b69-bdb8-9e46aa4cae7e",
   "metadata": {},
   "source": [
    "# Modelos de regresión"
   ]
  },
  {
   "cell_type": "code",
   "execution_count": 1,
   "id": "30ae4def-5924-44c1-819a-16c12a3521d8",
   "metadata": {},
   "outputs": [
    {
     "name": "stdout",
     "output_type": "stream",
     "text": [
      "Requirement already satisfied: gpboost in /Users/alessiobocco/opt/anaconda3/lib/python3.9/site-packages (0.6.7)\n",
      "Requirement already satisfied: wheel in /Users/alessiobocco/opt/anaconda3/lib/python3.9/site-packages (from gpboost) (0.37.0)\n",
      "Requirement already satisfied: scikit-learn!=0.22.0 in /Users/alessiobocco/opt/anaconda3/lib/python3.9/site-packages (from gpboost) (0.24.2)\n",
      "Requirement already satisfied: scipy in /Users/alessiobocco/opt/anaconda3/lib/python3.9/site-packages (from gpboost) (1.7.1)\n",
      "Requirement already satisfied: numpy in /Users/alessiobocco/opt/anaconda3/lib/python3.9/site-packages (from gpboost) (1.20.3)\n",
      "Requirement already satisfied: joblib>=0.11 in /Users/alessiobocco/opt/anaconda3/lib/python3.9/site-packages (from scikit-learn!=0.22.0->gpboost) (1.0.1)\n",
      "Requirement already satisfied: threadpoolctl>=2.0.0 in /Users/alessiobocco/opt/anaconda3/lib/python3.9/site-packages (from scikit-learn!=0.22.0->gpboost) (2.2.0)\n",
      "Requirement already satisfied: shap in /Users/alessiobocco/opt/anaconda3/lib/python3.9/site-packages (0.40.0)\n",
      "Requirement already satisfied: pandas in /Users/alessiobocco/opt/anaconda3/lib/python3.9/site-packages (from shap) (1.3.4)\n",
      "Requirement already satisfied: scipy in /Users/alessiobocco/opt/anaconda3/lib/python3.9/site-packages (from shap) (1.7.1)\n",
      "Requirement already satisfied: numba in /Users/alessiobocco/opt/anaconda3/lib/python3.9/site-packages (from shap) (0.54.1)\n",
      "Requirement already satisfied: tqdm>4.25.0 in /Users/alessiobocco/opt/anaconda3/lib/python3.9/site-packages (from shap) (4.62.3)\n",
      "Requirement already satisfied: slicer==0.0.7 in /Users/alessiobocco/opt/anaconda3/lib/python3.9/site-packages (from shap) (0.0.7)\n",
      "Requirement already satisfied: cloudpickle in /Users/alessiobocco/opt/anaconda3/lib/python3.9/site-packages (from shap) (2.0.0)\n",
      "Requirement already satisfied: packaging>20.9 in /Users/alessiobocco/opt/anaconda3/lib/python3.9/site-packages (from shap) (21.0)\n",
      "Requirement already satisfied: numpy in /Users/alessiobocco/opt/anaconda3/lib/python3.9/site-packages (from shap) (1.20.3)\n",
      "Requirement already satisfied: scikit-learn in /Users/alessiobocco/opt/anaconda3/lib/python3.9/site-packages (from shap) (0.24.2)\n",
      "Requirement already satisfied: pyparsing>=2.0.2 in /Users/alessiobocco/opt/anaconda3/lib/python3.9/site-packages (from packaging>20.9->shap) (3.0.4)\n",
      "Requirement already satisfied: llvmlite<0.38,>=0.37.0rc1 in /Users/alessiobocco/opt/anaconda3/lib/python3.9/site-packages (from numba->shap) (0.37.0)\n",
      "Requirement already satisfied: setuptools in /Users/alessiobocco/opt/anaconda3/lib/python3.9/site-packages (from numba->shap) (58.0.4)\n",
      "Requirement already satisfied: python-dateutil>=2.7.3 in /Users/alessiobocco/opt/anaconda3/lib/python3.9/site-packages (from pandas->shap) (2.8.0)\n",
      "Requirement already satisfied: pytz>=2017.3 in /Users/alessiobocco/opt/anaconda3/lib/python3.9/site-packages (from pandas->shap) (2021.3)\n",
      "Requirement already satisfied: six>=1.5 in /Users/alessiobocco/opt/anaconda3/lib/python3.9/site-packages (from python-dateutil>=2.7.3->pandas->shap) (1.16.0)\n",
      "Requirement already satisfied: threadpoolctl>=2.0.0 in /Users/alessiobocco/opt/anaconda3/lib/python3.9/site-packages (from scikit-learn->shap) (2.2.0)\n",
      "Requirement already satisfied: joblib>=0.11 in /Users/alessiobocco/opt/anaconda3/lib/python3.9/site-packages (from scikit-learn->shap) (1.0.1)\n",
      "Requirement already satisfied: xgboost in /Users/alessiobocco/opt/anaconda3/lib/python3.9/site-packages (1.5.1)\n",
      "Requirement already satisfied: numpy in /Users/alessiobocco/opt/anaconda3/lib/python3.9/site-packages (from xgboost) (1.20.3)\n",
      "Requirement already satisfied: scipy in /Users/alessiobocco/opt/anaconda3/lib/python3.9/site-packages (from xgboost) (1.7.1)\n"
     ]
    }
   ],
   "source": [
    "!pip install gpboost\n",
    "!pip install shap\n",
    "!pip install xgboost"
   ]
  },
  {
   "cell_type": "code",
   "execution_count": 2,
   "id": "7a2892a7-6806-4530-a934-bb6b91c732e1",
   "metadata": {},
   "outputs": [
    {
     "name": "stderr",
     "output_type": "stream",
     "text": [
      "/Users/alessiobocco/opt/anaconda3/lib/python3.9/site-packages/geopandas/_compat.py:111: UserWarning: The Shapely GEOS version (3.9.1-CAPI-1.14.2) is incompatible with the GEOS version PyGEOS was compiled with (3.10.1-CAPI-1.16.0). Conversions between both will be slow.\n",
      "  warnings.warn(\n"
     ]
    }
   ],
   "source": [
    "import numpy as np\n",
    "import pandas as pd\n",
    "import seaborn as sns\n",
    "import geopandas as gpd\n",
    "from shapely import wkt\n",
    "\n",
    "# Modelos\n",
    "import gpboost as gpb\n",
    "import shap\n",
    "from sklearn.model_selection import train_test_split\n",
    "\n",
    "from sklearn.preprocessing import StandardScaler\n"
   ]
  },
  {
   "cell_type": "code",
   "execution_count": null,
   "id": "92b5d2b1-37e0-4dde-83c6-e28204d73454",
   "metadata": {},
   "outputs": [],
   "source": []
  },
  {
   "cell_type": "markdown",
   "id": "526508f6-894a-4aac-9190-69d424be7f15",
   "metadata": {
    "tags": []
   },
   "source": [
    "## Lectura de datos "
   ]
  },
  {
   "cell_type": "code",
   "execution_count": 3,
   "id": "acb203ae-c0a4-4bbf-8d91-20eea6b9c64a",
   "metadata": {},
   "outputs": [],
   "source": [
    "data = pd.read_csv('./data/modelling_data.csv',  index_col=[0])"
   ]
  },
  {
   "cell_type": "code",
   "execution_count": 4,
   "id": "9977388e-f263-4780-a71d-e857ecea8880",
   "metadata": {},
   "outputs": [
    {
     "data": {
      "text/html": [
       "<div>\n",
       "<style scoped>\n",
       "    .dataframe tbody tr th:only-of-type {\n",
       "        vertical-align: middle;\n",
       "    }\n",
       "\n",
       "    .dataframe tbody tr th {\n",
       "        vertical-align: top;\n",
       "    }\n",
       "\n",
       "    .dataframe thead th {\n",
       "        text-align: right;\n",
       "    }\n",
       "</style>\n",
       "<table border=\"1\" class=\"dataframe\">\n",
       "  <thead>\n",
       "    <tr style=\"text-align: right;\">\n",
       "      <th></th>\n",
       "      <th>id</th>\n",
       "      <th>antig</th>\n",
       "      <th>m2total</th>\n",
       "      <th>m2cub</th>\n",
       "      <th>ambientes</th>\n",
       "      <th>banios</th>\n",
       "      <th>precioUSD</th>\n",
       "      <th>m2precioUSD</th>\n",
       "      <th>comisaria_dista</th>\n",
       "      <th>obelisco_dista</th>\n",
       "      <th>...</th>\n",
       "      <th>clas_ambientes_1</th>\n",
       "      <th>clas_ambientes_2</th>\n",
       "      <th>clas_ambientes_3</th>\n",
       "      <th>clas_ambientes_4</th>\n",
       "      <th>clas_ambientes_5</th>\n",
       "      <th>clas_banios_0</th>\n",
       "      <th>clas_banios_1</th>\n",
       "      <th>clas_banios_2</th>\n",
       "      <th>clas_banios_3</th>\n",
       "      <th>clas_banios_4</th>\n",
       "    </tr>\n",
       "  </thead>\n",
       "  <tbody>\n",
       "    <tr>\n",
       "      <th>0</th>\n",
       "      <td>1</td>\n",
       "      <td>0</td>\n",
       "      <td>200</td>\n",
       "      <td>200</td>\n",
       "      <td>0</td>\n",
       "      <td>0</td>\n",
       "      <td>1500000</td>\n",
       "      <td>7500.000000</td>\n",
       "      <td>1162.621600</td>\n",
       "      <td>14053.797191</td>\n",
       "      <td>...</td>\n",
       "      <td>0</td>\n",
       "      <td>0</td>\n",
       "      <td>0</td>\n",
       "      <td>0</td>\n",
       "      <td>0</td>\n",
       "      <td>1</td>\n",
       "      <td>0</td>\n",
       "      <td>0</td>\n",
       "      <td>0</td>\n",
       "      <td>0</td>\n",
       "    </tr>\n",
       "    <tr>\n",
       "      <th>1</th>\n",
       "      <td>2</td>\n",
       "      <td>30</td>\n",
       "      <td>50</td>\n",
       "      <td>50</td>\n",
       "      <td>0</td>\n",
       "      <td>1</td>\n",
       "      <td>125000</td>\n",
       "      <td>2500.000000</td>\n",
       "      <td>1887.227055</td>\n",
       "      <td>13473.139375</td>\n",
       "      <td>...</td>\n",
       "      <td>0</td>\n",
       "      <td>0</td>\n",
       "      <td>0</td>\n",
       "      <td>0</td>\n",
       "      <td>0</td>\n",
       "      <td>0</td>\n",
       "      <td>1</td>\n",
       "      <td>0</td>\n",
       "      <td>0</td>\n",
       "      <td>0</td>\n",
       "    </tr>\n",
       "    <tr>\n",
       "      <th>2</th>\n",
       "      <td>3</td>\n",
       "      <td>30</td>\n",
       "      <td>414</td>\n",
       "      <td>414</td>\n",
       "      <td>0</td>\n",
       "      <td>2</td>\n",
       "      <td>590000</td>\n",
       "      <td>1425.120773</td>\n",
       "      <td>1497.020434</td>\n",
       "      <td>13514.662463</td>\n",
       "      <td>...</td>\n",
       "      <td>0</td>\n",
       "      <td>0</td>\n",
       "      <td>0</td>\n",
       "      <td>0</td>\n",
       "      <td>0</td>\n",
       "      <td>0</td>\n",
       "      <td>0</td>\n",
       "      <td>1</td>\n",
       "      <td>0</td>\n",
       "      <td>0</td>\n",
       "    </tr>\n",
       "    <tr>\n",
       "      <th>3</th>\n",
       "      <td>4</td>\n",
       "      <td>35</td>\n",
       "      <td>414</td>\n",
       "      <td>414</td>\n",
       "      <td>0</td>\n",
       "      <td>2</td>\n",
       "      <td>730000</td>\n",
       "      <td>1763.000000</td>\n",
       "      <td>1506.066814</td>\n",
       "      <td>13495.631683</td>\n",
       "      <td>...</td>\n",
       "      <td>0</td>\n",
       "      <td>0</td>\n",
       "      <td>0</td>\n",
       "      <td>0</td>\n",
       "      <td>0</td>\n",
       "      <td>0</td>\n",
       "      <td>0</td>\n",
       "      <td>1</td>\n",
       "      <td>0</td>\n",
       "      <td>0</td>\n",
       "    </tr>\n",
       "    <tr>\n",
       "      <th>4</th>\n",
       "      <td>5</td>\n",
       "      <td>35</td>\n",
       "      <td>285</td>\n",
       "      <td>285</td>\n",
       "      <td>0</td>\n",
       "      <td>1</td>\n",
       "      <td>550000</td>\n",
       "      <td>1929.000000</td>\n",
       "      <td>1506.066814</td>\n",
       "      <td>13495.631683</td>\n",
       "      <td>...</td>\n",
       "      <td>0</td>\n",
       "      <td>0</td>\n",
       "      <td>0</td>\n",
       "      <td>0</td>\n",
       "      <td>0</td>\n",
       "      <td>0</td>\n",
       "      <td>1</td>\n",
       "      <td>0</td>\n",
       "      <td>0</td>\n",
       "      <td>0</td>\n",
       "    </tr>\n",
       "  </tbody>\n",
       "</table>\n",
       "<p>5 rows × 112 columns</p>\n",
       "</div>"
      ],
      "text/plain": [
       "   id  antig  m2total  m2cub  ambientes  banios  precioUSD  m2precioUSD  \\\n",
       "0   1      0      200    200          0       0    1500000  7500.000000   \n",
       "1   2     30       50     50          0       1     125000  2500.000000   \n",
       "2   3     30      414    414          0       2     590000  1425.120773   \n",
       "3   4     35      414    414          0       2     730000  1763.000000   \n",
       "4   5     35      285    285          0       1     550000  1929.000000   \n",
       "\n",
       "   comisaria_dista  obelisco_dista  ...  clas_ambientes_1  clas_ambientes_2  \\\n",
       "0      1162.621600    14053.797191  ...                 0                 0   \n",
       "1      1887.227055    13473.139375  ...                 0                 0   \n",
       "2      1497.020434    13514.662463  ...                 0                 0   \n",
       "3      1506.066814    13495.631683  ...                 0                 0   \n",
       "4      1506.066814    13495.631683  ...                 0                 0   \n",
       "\n",
       "   clas_ambientes_3  clas_ambientes_4  clas_ambientes_5  clas_banios_0  \\\n",
       "0                 0                 0                 0              1   \n",
       "1                 0                 0                 0              0   \n",
       "2                 0                 0                 0              0   \n",
       "3                 0                 0                 0              0   \n",
       "4                 0                 0                 0              0   \n",
       "\n",
       "   clas_banios_1  clas_banios_2  clas_banios_3  clas_banios_4  \n",
       "0              0              0              0              0  \n",
       "1              1              0              0              0  \n",
       "2              0              1              0              0  \n",
       "3              0              1              0              0  \n",
       "4              1              0              0              0  \n",
       "\n",
       "[5 rows x 112 columns]"
      ]
     },
     "execution_count": 4,
     "metadata": {},
     "output_type": "execute_result"
    }
   ],
   "source": [
    "data.head()"
   ]
  },
  {
   "cell_type": "code",
   "execution_count": null,
   "id": "fbc1309b-54e2-4f37-a95f-d3e5bc0a3762",
   "metadata": {},
   "outputs": [],
   "source": []
  },
  {
   "cell_type": "code",
   "execution_count": 5,
   "id": "ea042777-6c35-40d6-9fc2-559792228701",
   "metadata": {},
   "outputs": [],
   "source": [
    "y = data.precioUSD\n",
    "X = data.drop(\"precioUSD\", axis = 1)"
   ]
  },
  {
   "cell_type": "code",
   "execution_count": 6,
   "id": "c00510e6-b683-4c09-987d-6a39ddc66403",
   "metadata": {},
   "outputs": [
    {
     "data": {
      "text/html": [
       "<div>\n",
       "<style scoped>\n",
       "    .dataframe tbody tr th:only-of-type {\n",
       "        vertical-align: middle;\n",
       "    }\n",
       "\n",
       "    .dataframe tbody tr th {\n",
       "        vertical-align: top;\n",
       "    }\n",
       "\n",
       "    .dataframe thead th {\n",
       "        text-align: right;\n",
       "    }\n",
       "</style>\n",
       "<table border=\"1\" class=\"dataframe\">\n",
       "  <thead>\n",
       "    <tr style=\"text-align: right;\">\n",
       "      <th></th>\n",
       "      <th>id</th>\n",
       "      <th>antig</th>\n",
       "      <th>m2total</th>\n",
       "      <th>m2cub</th>\n",
       "      <th>ambientes</th>\n",
       "      <th>banios</th>\n",
       "      <th>m2precioUSD</th>\n",
       "      <th>comisaria_dista</th>\n",
       "      <th>obelisco_dista</th>\n",
       "      <th>nrobos</th>\n",
       "      <th>...</th>\n",
       "      <th>clas_ambientes_1</th>\n",
       "      <th>clas_ambientes_2</th>\n",
       "      <th>clas_ambientes_3</th>\n",
       "      <th>clas_ambientes_4</th>\n",
       "      <th>clas_ambientes_5</th>\n",
       "      <th>clas_banios_0</th>\n",
       "      <th>clas_banios_1</th>\n",
       "      <th>clas_banios_2</th>\n",
       "      <th>clas_banios_3</th>\n",
       "      <th>clas_banios_4</th>\n",
       "    </tr>\n",
       "  </thead>\n",
       "  <tbody>\n",
       "    <tr>\n",
       "      <th>0</th>\n",
       "      <td>1</td>\n",
       "      <td>0</td>\n",
       "      <td>200</td>\n",
       "      <td>200</td>\n",
       "      <td>0</td>\n",
       "      <td>0</td>\n",
       "      <td>7500.000000</td>\n",
       "      <td>1162.621600</td>\n",
       "      <td>14053.797191</td>\n",
       "      <td>134</td>\n",
       "      <td>...</td>\n",
       "      <td>0</td>\n",
       "      <td>0</td>\n",
       "      <td>0</td>\n",
       "      <td>0</td>\n",
       "      <td>0</td>\n",
       "      <td>1</td>\n",
       "      <td>0</td>\n",
       "      <td>0</td>\n",
       "      <td>0</td>\n",
       "      <td>0</td>\n",
       "    </tr>\n",
       "    <tr>\n",
       "      <th>1</th>\n",
       "      <td>2</td>\n",
       "      <td>30</td>\n",
       "      <td>50</td>\n",
       "      <td>50</td>\n",
       "      <td>0</td>\n",
       "      <td>1</td>\n",
       "      <td>2500.000000</td>\n",
       "      <td>1887.227055</td>\n",
       "      <td>13473.139375</td>\n",
       "      <td>23</td>\n",
       "      <td>...</td>\n",
       "      <td>0</td>\n",
       "      <td>0</td>\n",
       "      <td>0</td>\n",
       "      <td>0</td>\n",
       "      <td>0</td>\n",
       "      <td>0</td>\n",
       "      <td>1</td>\n",
       "      <td>0</td>\n",
       "      <td>0</td>\n",
       "      <td>0</td>\n",
       "    </tr>\n",
       "    <tr>\n",
       "      <th>2</th>\n",
       "      <td>3</td>\n",
       "      <td>30</td>\n",
       "      <td>414</td>\n",
       "      <td>414</td>\n",
       "      <td>0</td>\n",
       "      <td>2</td>\n",
       "      <td>1425.120773</td>\n",
       "      <td>1497.020434</td>\n",
       "      <td>13514.662463</td>\n",
       "      <td>33</td>\n",
       "      <td>...</td>\n",
       "      <td>0</td>\n",
       "      <td>0</td>\n",
       "      <td>0</td>\n",
       "      <td>0</td>\n",
       "      <td>0</td>\n",
       "      <td>0</td>\n",
       "      <td>0</td>\n",
       "      <td>1</td>\n",
       "      <td>0</td>\n",
       "      <td>0</td>\n",
       "    </tr>\n",
       "    <tr>\n",
       "      <th>3</th>\n",
       "      <td>4</td>\n",
       "      <td>35</td>\n",
       "      <td>414</td>\n",
       "      <td>414</td>\n",
       "      <td>0</td>\n",
       "      <td>2</td>\n",
       "      <td>1763.000000</td>\n",
       "      <td>1506.066814</td>\n",
       "      <td>13495.631683</td>\n",
       "      <td>33</td>\n",
       "      <td>...</td>\n",
       "      <td>0</td>\n",
       "      <td>0</td>\n",
       "      <td>0</td>\n",
       "      <td>0</td>\n",
       "      <td>0</td>\n",
       "      <td>0</td>\n",
       "      <td>0</td>\n",
       "      <td>1</td>\n",
       "      <td>0</td>\n",
       "      <td>0</td>\n",
       "    </tr>\n",
       "    <tr>\n",
       "      <th>4</th>\n",
       "      <td>5</td>\n",
       "      <td>35</td>\n",
       "      <td>285</td>\n",
       "      <td>285</td>\n",
       "      <td>0</td>\n",
       "      <td>1</td>\n",
       "      <td>1929.000000</td>\n",
       "      <td>1506.066814</td>\n",
       "      <td>13495.631683</td>\n",
       "      <td>33</td>\n",
       "      <td>...</td>\n",
       "      <td>0</td>\n",
       "      <td>0</td>\n",
       "      <td>0</td>\n",
       "      <td>0</td>\n",
       "      <td>0</td>\n",
       "      <td>0</td>\n",
       "      <td>1</td>\n",
       "      <td>0</td>\n",
       "      <td>0</td>\n",
       "      <td>0</td>\n",
       "    </tr>\n",
       "  </tbody>\n",
       "</table>\n",
       "<p>5 rows × 111 columns</p>\n",
       "</div>"
      ],
      "text/plain": [
       "   id  antig  m2total  m2cub  ambientes  banios  m2precioUSD  comisaria_dista  \\\n",
       "0   1      0      200    200          0       0  7500.000000      1162.621600   \n",
       "1   2     30       50     50          0       1  2500.000000      1887.227055   \n",
       "2   3     30      414    414          0       2  1425.120773      1497.020434   \n",
       "3   4     35      414    414          0       2  1763.000000      1506.066814   \n",
       "4   5     35      285    285          0       1  1929.000000      1506.066814   \n",
       "\n",
       "   obelisco_dista  nrobos  ...  clas_ambientes_1  clas_ambientes_2  \\\n",
       "0    14053.797191     134  ...                 0                 0   \n",
       "1    13473.139375      23  ...                 0                 0   \n",
       "2    13514.662463      33  ...                 0                 0   \n",
       "3    13495.631683      33  ...                 0                 0   \n",
       "4    13495.631683      33  ...                 0                 0   \n",
       "\n",
       "   clas_ambientes_3  clas_ambientes_4  clas_ambientes_5  clas_banios_0  \\\n",
       "0                 0                 0                 0              1   \n",
       "1                 0                 0                 0              0   \n",
       "2                 0                 0                 0              0   \n",
       "3                 0                 0                 0              0   \n",
       "4                 0                 0                 0              0   \n",
       "\n",
       "   clas_banios_1  clas_banios_2  clas_banios_3  clas_banios_4  \n",
       "0              0              0              0              0  \n",
       "1              1              0              0              0  \n",
       "2              0              1              0              0  \n",
       "3              0              1              0              0  \n",
       "4              1              0              0              0  \n",
       "\n",
       "[5 rows x 111 columns]"
      ]
     },
     "execution_count": 6,
     "metadata": {},
     "output_type": "execute_result"
    }
   ],
   "source": [
    "X.head()"
   ]
  },
  {
   "cell_type": "code",
   "execution_count": 7,
   "id": "ea23f8d5-9fe5-4691-b26c-2a43ab3348c6",
   "metadata": {},
   "outputs": [],
   "source": [
    "X_train, X_test, y_train, y_test = train_test_split(\n",
    "         X, y, test_size=0.33, random_state=42)\n",
    "\n",
    "coords_train = X_train[['lon_planar', 'lat_planar']]\n",
    "coords_test = X_test[['lon_planar', 'lat_planar']]"
   ]
  },
  {
   "cell_type": "code",
   "execution_count": null,
   "id": "3b3338a4-5585-46c3-8cdb-5d1b1e41031a",
   "metadata": {},
   "outputs": [],
   "source": []
  },
  {
   "cell_type": "code",
   "execution_count": 8,
   "id": "c44a8b79-2393-4096-a0be-9bc3e41e33b0",
   "metadata": {},
   "outputs": [],
   "source": [
    "features = ['id', 'lon_planar', 'lat_planar', 'banios', 'ambientes']"
   ]
  },
  {
   "cell_type": "code",
   "execution_count": 9,
   "id": "98b762e8-1875-493d-935d-1b3ab155bca2",
   "metadata": {},
   "outputs": [],
   "source": [
    "X_train = X_train.drop(features, axis = 1)\n",
    "X_test = X_test.drop(features, axis = 1)"
   ]
  },
  {
   "cell_type": "code",
   "execution_count": null,
   "id": "c7f44dd8-b78a-4788-9c85-73e8df33b0a7",
   "metadata": {},
   "outputs": [],
   "source": []
  },
  {
   "cell_type": "code",
   "execution_count": 10,
   "id": "5f734bd7-1cd7-4b2f-8adb-e806ced28fc0",
   "metadata": {},
   "outputs": [],
   "source": [
    "scaler_X = StandardScaler()\n",
    "scaler_y = StandardScaler()\n",
    "\n",
    "## Aplicamos la transformación de escala sobre los features\n",
    "scaler_X.fit(X_train)\n",
    "X_scaled_train = scaler_X.transform(X_train)\n",
    "X_scaled_test  = scaler_X.transform(X_test)\n",
    "\n",
    "## Aplicamos la transformación de escala sobre la variable objetivo\n",
    "## Observación: StandardScaler toma como input una matriz. Si queremos darle un\n",
    "## vector (como por ej. para utilizar con la variable objetivo), tenemos que \n",
    "## transformar ese vector en una matriz de una sola columna. Esto lo hacemos\n",
    "## con el método 'reshape'\n",
    "scaler_y.fit(y_train.values.reshape(-1, 1))\n",
    "y_scaled_train = scaler_y.transform(y_train.values.reshape(-1, 1))[:,0]\n",
    "y_scaled_test  = scaler_y.transform(y_test.values.reshape(-1, 1))[:,0]"
   ]
  },
  {
   "cell_type": "code",
   "execution_count": null,
   "id": "103c16e8-ba65-4e8c-8c69-f9b30d9bae53",
   "metadata": {},
   "outputs": [],
   "source": []
  },
  {
   "cell_type": "code",
   "execution_count": null,
   "id": "4f798198-9be5-470b-a241-c65b9a4d44f8",
   "metadata": {},
   "outputs": [],
   "source": [
    "gp_model = gpb.GPModel(gp_coords = coords_train, cov_function=\"exponential\")\n",
    "data_train = gpb.Dataset(X_train, y_train)\n",
    "params = { 'objective': 'regression_l2', 'verbose': 0 }\n",
    "# Training\n",
    "bst = gpb.train(params=params, train_set=data_train,\n",
    "                gp_model=gp_model, num_boost_round=247)\n",
    "gp_model.summary() # Estimated covariance parameters\n",
    "# Prediction\n",
    "pred = bst.predict(data=X_test, gp_coords_pred=coords_test,\n",
    "                    predict_var=True)\n",
    "# Sum the predictions of the trees and the GP\n",
    "y_pred = pred['fixed_effect'] + pred['random_effect_mean']"
   ]
  },
  {
   "cell_type": "code",
   "execution_count": 24,
   "id": "c0ff7bcf-a662-42a0-8cec-b9cd74859392",
   "metadata": {},
   "outputs": [],
   "source": [
    "## Utilizaremos la raiz cuadrada del error cuadrático medio como \n",
    "## medida del error\n",
    "def rmse(y1, y2):\n",
    "    \"\"\"\n",
    "    Raiz cuadrada del error cuadrático medio.\n",
    "    \"\"\"\n",
    "    return np.sqrt(mean_squared_error(y1, y2))"
   ]
  },
  {
   "cell_type": "code",
   "execution_count": 25,
   "id": "dbc4c08d-ed68-454c-b77c-fbb92e4876e5",
   "metadata": {},
   "outputs": [],
   "source": [
    "from sklearn.metrics import mean_squared_error"
   ]
  },
  {
   "cell_type": "code",
   "execution_count": 26,
   "id": "4d2c74d5-ea04-4217-947e-44a49180221f",
   "metadata": {},
   "outputs": [],
   "source": [
    "## Predicciones sobre conjunto de entrenamiento y validacion\n",
    "pred_test  = scaler_y.inverse_transform(y_pred)"
   ]
  },
  {
   "cell_type": "code",
   "execution_count": 27,
   "id": "041052db-d879-4104-86e2-4542b331160e",
   "metadata": {},
   "outputs": [
    {
     "data": {
      "text/plain": [
       "343725324852.4464"
      ]
     },
     "execution_count": 27,
     "metadata": {},
     "output_type": "execute_result"
    }
   ],
   "source": [
    "rmse(y_test, pred_test)"
   ]
  },
  {
   "cell_type": "code",
   "execution_count": 28,
   "id": "32ef6410-c57a-4989-b96e-48900cb357a9",
   "metadata": {},
   "outputs": [
    {
     "data": {
      "image/png": "[encoded data removed]",
      "text/plain": [
       "<Figure size 576x597.6 with 2 Axes>"
      ]
     },
     "metadata": {
      "needs_background": "light"
     },
     "output_type": "display_data"
    },
    {
     "data": {
      "image/png": "[encoded data removed]",
      "text/plain": [
       "<Figure size 540x360 with 2 Axes>"
      ]
     },
     "metadata": {
      "needs_background": "light"
     },
     "output_type": "display_data"
    }
   ],
   "source": [
    "shap_values = shap.TreeExplainer(bst).shap_values(X_train)\n",
    "shap.summary_plot(shap_values, X_train)\n",
    "shap.dependence_plot(\"m2total\", shap_values, X_train)"
   ]
  },
  {
   "cell_type": "code",
   "execution_count": null,
   "id": "975fdd85-e73b-4521-b08f-6d6d325301cc",
   "metadata": {},
   "outputs": [],
   "source": [
    "# --------------------Parameter tuning using a validation set----------------\n",
    "# Define training and validation data by setting indices of 'folds'\n",
    "n = len(X_train_\n",
    "permut = np.random.RandomState(10).choice(a=n, size=n, replace=False)\n",
    "train_idx = permut[0:int(n/2)]\n",
    "valid_idx = permut[int(n/2):n]\n",
    "folds = [(train_idx, valid_idx)]\n",
    "# Parameter tuning using validation data\n",
    "opt_params = gpb.grid_search_tune_parameters(param_grid=param_grid_small,\n",
    "                                             params=params,\n",
    "                                             folds=folds,\n",
    "                                             gp_model=gp_model,\n",
    "                                             use_gp_model_for_validation=True,\n",
    "                                             train_set=data_train,\n",
    "                                             verbose_eval=1,\n",
    "                                             num_boost_round=1000, \n",
    "                                             early_stopping_rounds=10,\n",
    "                                             seed=1000,\n",
    "                                             metrics='binary_logloss')\n",
    "print(\"Best number of iterations: \" + str(opt_params['best_iter']))\n",
    "print(\"Best score: \" + str(opt_params['best_score']))\n",
    "print(\"Best parameters: \" + str(opt_params['best_params']))"
   ]
  },
  {
   "cell_type": "code",
   "execution_count": null,
   "id": "ce53b289-fea9-4c13-9311-1b18b672f635",
   "metadata": {},
   "outputs": [],
   "source": []
  },
  {
   "cell_type": "code",
   "execution_count": null,
   "id": "d4ba78fb-0c36-402f-af54-0285948ea813",
   "metadata": {},
   "outputs": [],
   "source": []
  },
  {
   "cell_type": "code",
   "execution_count": null,
   "id": "528ddcd5-29b0-4ec5-bee0-6d82a0b5a16e",
   "metadata": {},
   "outputs": [],
   "source": []
  },
  {
   "cell_type": "markdown",
   "id": "80c916e4-08d6-4940-abef-8411831c0958",
   "metadata": {
    "colab": {
     "base_uri": "https://localhost:8080/",
     "height": 382
    },
    "id": "efd8cea5-723d-42d4-a13a-a819ff393878",
    "outputId": "b66bab1f-ba69-42cd-d3e3-94e413a1a4e7"
   },
   "source": [
    "## XGBoost"
   ]
  },
  {
   "cell_type": "code",
   "execution_count": 28,
   "id": "b22bccf3-5c4a-4ac4-9127-b927ecbe9245",
   "metadata": {},
   "outputs": [],
   "source": [
    "import xgboost as xg\n",
    "from sklearn.metrics import mean_squared_error as MSE"
   ]
  },
  {
   "cell_type": "code",
   "execution_count": 31,
   "id": "33e90066-fe63-4c38-bbb2-409aa9749c06",
   "metadata": {},
   "outputs": [],
   "source": [
    "# import packages for hyperparameters tuning\n",
    "from sklearn.model_selection import GridSearchCV\n",
    "from sklearn.model_selection import RandomizedSearchCV\n",
    "from sklearn.model_selection import KFold\n",
    "from sklearn.metrics import make_scorer, mean_squared_error\n",
    "import time"
   ]
  },
  {
   "cell_type": "code",
   "execution_count": 32,
   "id": "17e815a2-6074-4167-8412-5af5e008d689",
   "metadata": {},
   "outputs": [],
   "source": [
    "# Definicion de la funcion de pérdida del RMSE\n",
    "def RMSLE(y, y_pred):\n",
    "    \"\"\" \n",
    "    Función de costo del rmse\n",
    "    \"\"\"\n",
    "    return (np.sqrt(mean_squared_error(y, y_pred)))\n",
    "\n",
    "# Definicion del scoring para usar en la validación\n",
    "rmsle_loss = make_scorer(RMSLE, greater_is_better=False)"
   ]
  },
  {
   "cell_type": "code",
   "execution_count": 33,
   "id": "29e68fb5-cde1-4519-9734-81fa2f570d17",
   "metadata": {},
   "outputs": [],
   "source": [
    "param_grid={\"learning_rate\"    : [0.05, 0.10, 0.15, 0.20, 0.25, 0.30 ] ,\n",
    "             \"max_depth\"        : [ 3, 4, 5, 6, 8, 10, 12, 15],\n",
    "             \"min_child_weight\" : [ 1, 3, 5, 7 ],\n",
    "             \"gamma\"            : [ 0.0, 0.1, 0.2 , 0.3, 0.4 ],\n",
    "             \"colsample_bytree\" : [ 0.3, 0.4, 0.5 , 0.7 ] }\n",
    "\n",
    "model = xg.XGBRegressor()\n"
   ]
  },
  {
   "cell_type": "code",
   "execution_count": null,
   "id": "3034f47c-0d80-4f97-b6bb-7c104095d3c7",
   "metadata": {},
   "outputs": [],
   "source": [
    "# Configuración de la validación cruzada anidada\n",
    "cv_outer = KFold(n_splits=5, shuffle=True, random_state=1)\n",
    "# Iterar por las divisiones del dataset original\n",
    "rmse_train_results = list() # Guardar el error de train\n",
    "rmse_test_results = list() # Guardar el error de test\n",
    "best_score = float(\"+inf\") # Indicador para elegir el mejor ajuste\n",
    "\n",
    "for train_ix, test_ix in cv_outer.split(X_scaled_train):\n",
    "    # Comienzo del contador\n",
    "    start = time.time()\n",
    "    # Dividir los datos. El set de train se subdivide en una nueva muestra de train y test\n",
    "    X_train_outer, X_test_outer = X_scaled_train[train_ix, :], X_scaled_train[test_ix, :]\n",
    "    y_train_outer, y_test_outer = y_scaled_train[train_ix], y_scaled_train[test_ix]\n",
    "    \n",
    "    # Configuración de la validacion interna\n",
    "    cv_inner = KFold(n_splits=5, shuffle=True, random_state=1)\n",
    "\n",
    "    # Definir la busqueda\n",
    "    search = RandomizedSearchCV(model, param_grid, scoring=rmsle_loss, cv=cv_inner, n_iter = 100,\n",
    "                                refit=True, verbose = 0, n_jobs = None)\n",
    "    # Ejecutar busqueda\n",
    "    result = search.fit(X_train_outer, y_train_outer)\n",
    "    # Seleccionar el mejor modelo para esa submuestra\n",
    "    best_model_iteration = result.best_estimator_\n",
    "    # Evaluar el modelo elegido con los datos de test de la submuestra\n",
    "    pred_train = scaler_y.inverse_transform(best_model_iteration.predict(X_train_outer))\n",
    "    pred_test  = scaler_y.inverse_transform(best_model_iteration.predict(X_test_outer))\n",
    "    # Convertir la variable objetivo a su escala original\n",
    "    train_rescaled = scaler_y.inverse_transform(y_train_outer)\n",
    "    test_rescaled  = scaler_y.inverse_transform(y_test_outer)\n",
    "    # Calcular métricas de error\n",
    "    train_rmse_values = RMSLE(pred_train, train_rescaled)\n",
    "    test_rmse_values = RMSLE(pred_test, test_rescaled)\n",
    "    # Evaluar el modelo. Si la performance en test mejora, se selecciona\n",
    "    if best_score > test_rmse_values:\n",
    "        best_model = result.best_estimator_\n",
    "        best_score = test_rmse_values\n",
    "    # Guardar resultados del error en cada iteración\n",
    "    rmse_train_results.append(train_rmse_values)\n",
    "    rmse_test_results.append(test_rmse_values)\n",
    "    # Reporte de progreso\n",
    "    print('>RMSE_train=%.3f, RMSE_test=%.3f score = %.3f, param = %s' % (train_rmse_values, test_rmse_values, result.best_score_, result.best_params_))\n",
    "    \n",
    "    # Finalizar contador\n",
    "    stop = time.time()\n",
    "    print(\"La iteración tomó\", round(stop-start, 3), \"segundos.\")\n",
    "\n",
    "\n",
    "# Resumen de la perfomance del modelo\n",
    "print('RMSE_train: %.3f (%.3f)' % (np.mean(rmse_train_results), np.std(rmse_train_results)))\n",
    "print('RMSE_test: %.3f (%.3f)' % (np.mean(rmse_test_results), np.std(rmse_test_results)))"
   ]
  },
  {
   "cell_type": "code",
   "execution_count": null,
   "id": "1765b4f3-1d9b-40c3-b251-56974037e117",
   "metadata": {},
   "outputs": [],
   "source": [
    "# Ajustar el modelo con todos los datos\n",
    "best_model.fit(X_scaled_train, y_scaled_train)"
   ]
  },
  {
   "cell_type": "code",
   "execution_count": 35,
   "id": "ab1c985a-b85a-4fec-9af4-c94947f8d6b3",
   "metadata": {},
   "outputs": [
    {
     "name": "stdout",
     "output_type": "stream",
     "text": [
      "Train RMSE: 58250.75694237299\n",
      "Test RMSE: 157645.51802997984\n"
     ]
    }
   ],
   "source": [
    "## Predicciones sobre conjunto de entrenamiento y validacion\n",
    "pred_train = scaler_y.inverse_transform(best_model.predict(X_scaled_train))\n",
    "pred_test  = scaler_y.inverse_transform(best_model.predict(X_scaled_test))\n",
    "\n",
    "print('Train RMSE:', RMSLE(pred_train, y_train))\n",
    "print('Test RMSE:', RMSLE(pred_test, y_test))"
   ]
  },
  {
   "cell_type": "code",
   "execution_count": null,
   "id": "dd258337-58f9-4123-94eb-5fb3594c7d31",
   "metadata": {},
   "outputs": [],
   "source": []
  },
  {
   "cell_type": "markdown",
   "id": "8a64feab-2133-4cef-b676-0ffb5408dd9d",
   "metadata": {},
   "source": [
    "## Random Forest"
   ]
  },
  {
   "cell_type": "code",
   "execution_count": 29,
   "id": "b4bdb9ef-2c00-4865-8e84-c53161e8b1cf",
   "metadata": {},
   "outputs": [],
   "source": [
    "from sklearn.ensemble import RandomForestRegressor"
   ]
  },
  {
   "cell_type": "code",
   "execution_count": 33,
   "id": "fbb67579-d54d-4fe4-a987-49d655a80f18",
   "metadata": {},
   "outputs": [],
   "source": [
    "# Number of trees in random forest\n",
    "n_estimators = [int(x) for x in np.linspace(start = 200, stop = 2000, num = 10)]\n",
    "# Number of features to consider at every split\n",
    "max_features = ['auto', 'sqrt']\n",
    "# Maximum number of levels in tree\n",
    "max_depth = [int(x) for x in np.linspace(10, 110, num = 11)]\n",
    "max_depth.append(None)\n",
    "# Minimum number of samples required to split a node\n",
    "min_samples_split = [2, 5, 10]\n",
    "# Minimum number of samples required at each leaf node\n",
    "min_samples_leaf = [1, 2, 4]\n",
    "# Method of selecting samples for training each tree\n",
    "bootstrap = [True, False]\n",
    "# Create the random grid\n",
    "param_grid = {'n_estimators': n_estimators,\n",
    "               'max_features': max_features,\n",
    "               'max_depth': max_depth,\n",
    "               'min_samples_split': min_samples_split,\n",
    "               'min_samples_leaf': min_samples_leaf,\n",
    "               'bootstrap': bootstrap}\n",
    "\n",
    "model = RandomForestRegressor()\n"
   ]
  },
  {
   "cell_type": "code",
   "execution_count": 34,
   "id": "90bfb3a1-f3a2-4c7e-b740-caaf94c9047c",
   "metadata": {},
   "outputs": [
    {
     "name": "stdout",
     "output_type": "stream",
     "text": [
      ">RMSE_train=7575.665, RMSE_test=12368.701 score = -0.615, param = {'n_estimators': 200, 'min_samples_split': 2, 'min_samples_leaf': 1, 'max_features': 'sqrt', 'max_depth': 10, 'bootstrap': True}\n",
      "La iteración tomó 350.509 segundos.\n",
      ">RMSE_train=7196.225, RMSE_test=17195.162 score = -0.616, param = {'n_estimators': 1200, 'min_samples_split': 2, 'min_samples_leaf': 1, 'max_features': 'sqrt', 'max_depth': 10, 'bootstrap': True}\n",
      "La iteración tomó 363.56 segundos.\n",
      ">RMSE_train=11714.975, RMSE_test=14762.239 score = -0.629, param = {'n_estimators': 600, 'min_samples_split': 5, 'min_samples_leaf': 2, 'max_features': 'sqrt', 'max_depth': 10, 'bootstrap': True}\n",
      "La iteración tomó 343.647 segundos.\n",
      ">RMSE_train=5748.369, RMSE_test=18846.343 score = -0.603, param = {'n_estimators': 1800, 'min_samples_split': 2, 'min_samples_leaf': 1, 'max_features': 'sqrt', 'max_depth': 70, 'bootstrap': True}\n",
      "La iteración tomó 381.511 segundos.\n",
      ">RMSE_train=5815.479, RMSE_test=19426.180 score = -0.601, param = {'n_estimators': 600, 'min_samples_split': 2, 'min_samples_leaf': 1, 'max_features': 'sqrt', 'max_depth': 30, 'bootstrap': True}\n",
      "La iteración tomó 323.25 segundos.\n",
      ">RMSE_train=10119.001, RMSE_test=13391.641 score = -0.627, param = {'n_estimators': 1600, 'min_samples_split': 5, 'min_samples_leaf': 1, 'max_features': 'sqrt', 'max_depth': 110, 'bootstrap': True}\n",
      "La iteración tomó 354.364 segundos.\n",
      ">RMSE_train=6644.496, RMSE_test=16422.988 score = -0.621, param = {'n_estimators': 400, 'min_samples_split': 2, 'min_samples_leaf': 1, 'max_features': 'auto', 'max_depth': 10, 'bootstrap': True}\n",
      "La iteración tomó 366.242 segundos.\n",
      ">RMSE_train=5806.488, RMSE_test=16400.205 score = -0.605, param = {'n_estimators': 1400, 'min_samples_split': 2, 'min_samples_leaf': 1, 'max_features': 'sqrt', 'max_depth': 20, 'bootstrap': True}\n",
      "La iteración tomó 371.816 segundos.\n",
      ">RMSE_train=11421.397, RMSE_test=10953.609 score = -0.646, param = {'n_estimators': 1600, 'min_samples_split': 2, 'min_samples_leaf': 2, 'max_features': 'sqrt', 'max_depth': 50, 'bootstrap': True}\n",
      "La iteración tomó 458.448 segundos.\n",
      ">RMSE_train=11910.777, RMSE_test=20536.468 score = -0.612, param = {'n_estimators': 800, 'min_samples_split': 10, 'min_samples_leaf': 1, 'max_features': 'sqrt', 'max_depth': 60, 'bootstrap': True}\n",
      "La iteración tomó 458.541 segundos.\n",
      "RMSE_train: 8395.287 (2470.745)\n",
      "RMSE_test: 16030.354 (2986.071)\n"
     ]
    }
   ],
   "source": [
    "# Configuración de la validación cruzada anidada\n",
    "cv_outer = KFold(n_splits=10, shuffle=True, random_state=1)\n",
    "# Iterar por las divisiones del dataset original\n",
    "rmse_train_results = list() # Guardar el error de train\n",
    "rmse_test_results = list() # Guardar el error de test\n",
    "best_score = float(\"+inf\") # Indicador para elegir el mejor ajuste\n",
    "\n",
    "for train_ix, test_ix in cv_outer.split(X_scaled_train):\n",
    "    # Comienzo del contador\n",
    "    start = time.time()\n",
    "    # Dividir los datos. El set de train se subdivide en una nueva muestra de train y test\n",
    "    X_train_outer, X_test_outer = X_scaled_train[train_ix, :], X_scaled_train[test_ix, :]\n",
    "    y_train_outer, y_test_outer = y_scaled_train[train_ix], y_scaled_train[test_ix]\n",
    "    \n",
    "    # Configuración de la validacion interna\n",
    "    cv_inner = KFold(n_splits=10, shuffle=True, random_state=1)\n",
    "\n",
    "    # Definir la busqueda\n",
    "    search = RandomizedSearchCV(model, param_grid, scoring=rmsle_loss, cv=cv_inner, n_iter = 100,\n",
    "                                refit=True, verbose = 0, n_jobs = -1)\n",
    "    # Ejecutar busqueda\n",
    "    result = search.fit(X_train_outer, y_train_outer)\n",
    "    # Seleccionar el mejor modelo para esa submuestra\n",
    "    best_model_iteration = result.best_estimator_\n",
    "    # Evaluar el modelo elegido con los datos de test de la submuestra\n",
    "    pred_train = scaler_y.inverse_transform(best_model_iteration.predict(X_train_outer))\n",
    "    pred_test  = scaler_y.inverse_transform(best_model_iteration.predict(X_test_outer))\n",
    "    # Convertir la variable objetivo a su escala original\n",
    "    train_rescaled = scaler_y.inverse_transform(y_train_outer)\n",
    "    test_rescaled  = scaler_y.inverse_transform(y_test_outer)\n",
    "    # Calcular métricas de error\n",
    "    train_rmse_values = RMSLE(pred_train, train_rescaled)\n",
    "    test_rmse_values = RMSLE(pred_test, test_rescaled)\n",
    "    # Evaluar el modelo. Si la performance en test mejora, se selecciona\n",
    "    if best_score > test_rmse_values:\n",
    "        best_model = result.best_estimator_\n",
    "        best_score = test_rmse_values\n",
    "    # Guardar resultados del error en cada iteración\n",
    "    rmse_train_results.append(train_rmse_values)\n",
    "    rmse_test_results.append(test_rmse_values)\n",
    "    # Reporte de progreso\n",
    "    print('>RMSE_train=%.3f, RMSE_test=%.3f score = %.3f, param = %s' % (train_rmse_values, test_rmse_values, result.best_score_, result.best_params_))\n",
    "    \n",
    "    # Finalizar contador\n",
    "    stop = time.time()\n",
    "    print(\"La iteración tomó\", round(stop-start, 3), \"segundos.\")\n",
    "\n",
    "\n",
    "# Resumen de la perfomance del modelo\n",
    "print('RMSE_train: %.3f (%.3f)' % (np.mean(rmse_train_results), np.std(rmse_train_results)))\n",
    "print('RMSE_test: %.3f (%.3f)' % (np.mean(rmse_test_results), np.std(rmse_test_results)))"
   ]
  },
  {
   "cell_type": "code",
   "execution_count": 39,
   "id": "f4f82e1b-fbed-4244-951e-a45ae9e2af94",
   "metadata": {},
   "outputs": [
    {
     "data": {
      "text/plain": [
       "RandomForestRegressor(max_depth=50, max_features='sqrt', min_samples_leaf=2,\n",
       "                      n_estimators=1600)"
      ]
     },
     "execution_count": 39,
     "metadata": {},
     "output_type": "execute_result"
    }
   ],
   "source": [
    "# Ajustar el modelo con todos los datos\n",
    "best_model.fit(X_scaled_train, y_scaled_train)"
   ]
  },
  {
   "cell_type": "code",
   "execution_count": 40,
   "id": "3a86c012-7c33-4c3c-a870-974bdf67c147",
   "metadata": {},
   "outputs": [
    {
     "name": "stdout",
     "output_type": "stream",
     "text": [
      "Train RMSE: 11103.697589986303\n",
      "Test RMSE: 17493.789975693086\n"
     ]
    }
   ],
   "source": [
    "## Predicciones sobre conjunto de entrenamiento y validacion\n",
    "pred_train = scaler_y.inverse_transform(best_model.predict(X_scaled_train))\n",
    "pred_test  = scaler_y.inverse_transform(best_model.predict(X_scaled_test))\n",
    "\n",
    "print('Train RMSE:', RMSLE(pred_train, y_train))\n",
    "print('Test RMSE:', RMSLE(pred_test, y_test))"
   ]
  },
  {
   "cell_type": "markdown",
   "id": "c14f656a-ab8f-44dc-9d27-29d6e1b1f4b8",
   "metadata": {
    "id": "ee6c0461-fdfd-48bb-b9f6-02d0cb851fc3"
   },
   "source": [
    "Feature importance"
   ]
  },
  {
   "cell_type": "code",
   "execution_count": 41,
   "id": "e261bf38-b88a-4ff8-83dc-2877320adfb4",
   "metadata": {
    "id": "b3dbdd62-cb7d-4748-ae52-f07dee4d8efe"
   },
   "outputs": [],
   "source": [
    "train_features = list(X_train.columns)"
   ]
  },
  {
   "cell_type": "code",
   "execution_count": 42,
   "id": "f38fc32e-82e3-42b9-ac32-5003e94be4c0",
   "metadata": {
    "colab": {
     "base_uri": "https://localhost:8080/",
     "height": 425
    },
    "id": "3d2e16a4-8ea8-46dd-96b1-495a957ac320",
    "outputId": "561e28d0-259d-4204-ebdd-1a2df28aeee2"
   },
   "outputs": [
    {
     "data": {
      "text/html": [
       "<div>\n",
       "<style scoped>\n",
       "    .dataframe tbody tr th:only-of-type {\n",
       "        vertical-align: middle;\n",
       "    }\n",
       "\n",
       "    .dataframe tbody tr th {\n",
       "        vertical-align: top;\n",
       "    }\n",
       "\n",
       "    .dataframe thead th {\n",
       "        text-align: right;\n",
       "    }\n",
       "</style>\n",
       "<table border=\"1\" class=\"dataframe\">\n",
       "  <thead>\n",
       "    <tr style=\"text-align: right;\">\n",
       "      <th></th>\n",
       "      <th>feature</th>\n",
       "      <th>feature_importance</th>\n",
       "    </tr>\n",
       "  </thead>\n",
       "  <tbody>\n",
       "    <tr>\n",
       "      <th>0</th>\n",
       "      <td>lotsize</td>\n",
       "      <td>0.351192</td>\n",
       "    </tr>\n",
       "    <tr>\n",
       "      <th>1</th>\n",
       "      <td>bathrooms</td>\n",
       "      <td>0.129103</td>\n",
       "    </tr>\n",
       "    <tr>\n",
       "      <th>2</th>\n",
       "      <td>garage</td>\n",
       "      <td>0.105629</td>\n",
       "    </tr>\n",
       "    <tr>\n",
       "      <th>3</th>\n",
       "      <td>aircon</td>\n",
       "      <td>0.104928</td>\n",
       "    </tr>\n",
       "    <tr>\n",
       "      <th>4</th>\n",
       "      <td>bedrooms</td>\n",
       "      <td>0.072179</td>\n",
       "    </tr>\n",
       "    <tr>\n",
       "      <th>5</th>\n",
       "      <td>stories</td>\n",
       "      <td>0.071990</td>\n",
       "    </tr>\n",
       "    <tr>\n",
       "      <th>6</th>\n",
       "      <td>prefer</td>\n",
       "      <td>0.044396</td>\n",
       "    </tr>\n",
       "    <tr>\n",
       "      <th>7</th>\n",
       "      <td>recreation</td>\n",
       "      <td>0.040679</td>\n",
       "    </tr>\n",
       "    <tr>\n",
       "      <th>8</th>\n",
       "      <td>fullbase</td>\n",
       "      <td>0.039813</td>\n",
       "    </tr>\n",
       "    <tr>\n",
       "      <th>9</th>\n",
       "      <td>driveway</td>\n",
       "      <td>0.021912</td>\n",
       "    </tr>\n",
       "    <tr>\n",
       "      <th>10</th>\n",
       "      <td>gasheat</td>\n",
       "      <td>0.018180</td>\n",
       "    </tr>\n",
       "  </tbody>\n",
       "</table>\n",
       "</div>"
      ],
      "text/plain": [
       "       feature  feature_importance\n",
       "0      lotsize            0.351192\n",
       "1    bathrooms            0.129103\n",
       "2       garage            0.105629\n",
       "3       aircon            0.104928\n",
       "4     bedrooms            0.072179\n",
       "5      stories            0.071990\n",
       "6       prefer            0.044396\n",
       "7   recreation            0.040679\n",
       "8     fullbase            0.039813\n",
       "9     driveway            0.021912\n",
       "10     gasheat            0.018180"
      ]
     },
     "execution_count": 42,
     "metadata": {},
     "output_type": "execute_result"
    }
   ],
   "source": [
    "base_imp = imp_df(train_features, best_model.feature_importances_)\n",
    "base_imp"
   ]
  },
  {
   "cell_type": "code",
   "execution_count": 44,
   "id": "31417b21-e41d-43fe-8055-b05d12bd3592",
   "metadata": {
    "colab": {
     "base_uri": "https://localhost:8080/",
     "height": 409
    },
    "id": "2cec7df0-0d98-4735-841f-6ba51a92839e",
    "outputId": "e163bc8c-0e7d-4ae2-8b10-2612e969bbab"
   },
   "outputs": [
    {
     "data": {
      "image/png": "[encoded data removed]",
      "text/plain": [
       "<Figure size 432x288 with 1 Axes>"
      ]
     },
     "metadata": {
      "needs_background": "light"
     },
     "output_type": "display_data"
    }
   ],
   "source": [
    "var_imp_plot(base_imp, 'Importancia de cada feature')"
   ]
  }
 ],
 "metadata": {
  "kernelspec": {
   "display_name": "Python 3 (ipykernel)",
   "language": "python",
   "name": "python3"
  },
  "language_info": {
   "codemirror_mode": {
    "name": "ipython",
    "version": 3
   },
   "file_extension": ".py",
   "mimetype": "text/x-python",
   "name": "python",
   "nbconvert_exporter": "python",
   "pygments_lexer": "ipython3",
   "version": "3.9.7"
  }
 },
 "nbformat": 4,
 "nbformat_minor": 5
}
